{
 "cells": [
  {
   "cell_type": "markdown",
   "id": "dc9658e8",
   "metadata": {},
   "source": [
    "# Bank Heist Project"
   ]
  },
  {
   "cell_type": "markdown",
   "id": "5247c02b",
   "metadata": {},
   "source": [
    "### 1. Initialization and Constants"
   ]
  },
  {
   "cell_type": "markdown",
   "id": "397543fa",
   "metadata": {},
   "source": [
    "- Maximum time allowed for the heist is 24 hours, meanwhile we travel between banks at a speed of 30km / h. \n",
    "- The coordinates are in kilometers so (1, 1) and (1,2) are one kilometer apart. \n",
    "- The solution has to run on a common laptop under 3 minutes for the 10,000 cities dataset\n",
    "- We must finish or start at the escape zones which is coordinate (0,0) "
   ]
  },
  {
   "cell_type": "code",
   "execution_count": 98,
   "id": "e5a683b1",
   "metadata": {
    "tags": []
   },
   "outputs": [
    {
     "name": "stdout",
     "output_type": "stream",
     "text": [
      "        id  x_coordinate  y_coordinate  money  time (hr)\n",
      "0        0      2.851925      1.201712  29700   0.273403\n",
      "1        1      4.150372     -2.654334   6500   0.064040\n",
      "2        2     -1.494092     -1.230419  89400   0.127458\n",
      "3        3      1.271326     -0.088520  96100   1.315029\n",
      "4        4      2.471113     -0.592810  41100   0.164393\n",
      "...    ...           ...           ...    ...        ...\n",
      "9995  9995     -2.472127      4.787304   2100   0.494904\n",
      "9996  9996      1.034968     -4.321240  54900   0.492866\n",
      "9997  9997     -0.512720     -2.949173  32200   0.933033\n",
      "9998  9998      2.626841     -3.482923   5100   0.551312\n",
      "9999  9999     -3.992507      0.090112  21000   1.107299\n",
      "\n",
      "[10000 rows x 5 columns]\n"
     ]
    }
   ],
   "source": [
    "import pandas as pd\n",
    "import numpy as np\n",
    "import time\n",
    "from scipy.spatial.distance import cdist\n",
    "\n",
    "df = pd.read_csv ('bank_data.csv')\n",
    "print(df)"
   ]
  },
  {
   "cell_type": "markdown",
   "id": "58d85fa8",
   "metadata": {},
   "source": [
    "### 2. Distance Calculation"
   ]
  },
  {
   "cell_type": "code",
   "execution_count": 73,
   "id": "8ce59a7a",
   "metadata": {
    "tags": []
   },
   "outputs": [],
   "source": []
  },
  {
   "cell_type": "markdown",
   "id": "2fc28950",
   "metadata": {},
   "source": [
    "### 3. Greedy Algorithm"
   ]
  },
  {
   "cell_type": "code",
   "execution_count": 108,
   "id": "74744b71",
   "metadata": {
    "tags": []
   },
   "outputs": [
    {
     "name": "stdout",
     "output_type": "stream",
     "text": [
      "Visited Banks: [4765, 8789, 6131, 7271, 8021, 9689, 3859, 6366, 6000, 9440, 6824, 6548, 9941, 4469, 3568, 5517, 3746, 640, 6787, 5303, 959, 7676, 8347, 2450, 6636, 3966, 1455, 1150, 4422, 9066, 6254, 3914, 8562, 6401]\n",
      "Total Money Made: 853200\n",
      "Bank ID & Money Earned: [(4765, 12900), (8789, 93200), (6131, 4300), (7271, 8200), (8021, 13500), (9689, 9400), (3859, 3100), (6366, 600), (6000, 29200), (9440, 500), (6824, 9800), (6548, 6200), (9941, 3600), (4469, 11300), (3568, 95800), (5517, 200), (3746, 40500), (640, 3300), (6787, 19500), (5303, 40400), (959, 87000), (7676, 400), (8347, 8400), (2450, 1100), (6636, 2400), (3966, 600), (1455, 78800), (1150, 30900), (4422, 77700), (9066, 300), (6254, 55100), (3914, 25200), (8562, 79100), (6401, 700)]\n"
     ]
    }
   ],
   "source": [
    "def greedy_algo(df):\n",
    "    start_time = time.time()\n",
    "    n = len(df)\n",
    "    current_time = 0 \n",
    "    current_position = (0,0)\n",
    "    visited = []\n",
    "    total_money = 0\n",
    "    money_by_bank = []\n",
    "    \n",
    "    while current_time <24 * 60 and time.time() - start_time < 180:\n",
    "        min_distance = np.inf\n",
    "        next_bank = None\n",
    "        \n",
    "        for idx, row in df.iterrows():\n",
    "            if idx in visited:\n",
    "                continue\n",
    "#Verifying the distance and the travel time in minutes                \n",
    "            distance = np.linalg.norm(np.array(current_position) - np.array((row['x_coordinate'], row['y_coordinate'])))\n",
    "            travel_time = distance / 30 * 60\n",
    "#Verifying if the visit is in the time limit                               \n",
    "            if current_time+travel_time+row['time (hr)']*60 <24 * 60:\n",
    "                if distance < min_distance:\n",
    "                    min_distance = distance\n",
    "                    next_bank = idx\n",
    "                    \n",
    "        if next_bank is None:\n",
    "            break\n",
    "#Compiling the visited banks and the time left           \n",
    "        visited.append(next_bank)\n",
    "        money_earned = df.loc[next_bank, 'money']\n",
    "        total_money += money_earned\n",
    "        money_by_bank.append((next_bank, money_earned)) \n",
    "        current_time += (min_distance / 30 * 60) + (df.loc[next_bank, 'time (hr)'] * 60)\n",
    "        current_position = (df.loc[next_bank, 'x_coordinate'], df.loc[next_bank, 'y_coordinate'])\n",
    "    \n",
    "    return visited, total_money, money_by_bank\n",
    "\n",
    "\n",
    "                                 \n",
    "result, total_money, money_by_bank = greedy_algo(df)\n",
    "print(\"Visited Banks:\", result)\n",
    "print(\"Total Money Made:\", total_money)\n",
    "print(\"Bank ID & Money Earned:\", money_by_bank)"
   ]
  },
  {
   "cell_type": "markdown",
   "id": "37b936b7",
   "metadata": {},
   "source": [
    "### 4. Implementation Details"
   ]
  },
  {
   "cell_type": "code",
   "execution_count": 110,
   "id": "3f373d60-f5dd-4c70-b9ba-073db1373412",
   "metadata": {
    "tags": []
   },
   "outputs": [
    {
     "name": "stdout",
     "output_type": "stream",
     "text": [
      "Visited Banks: [4765, 8789, 6131, 7271, 8021, 9689, 3859, 6366, 6000, 9440, 6824, 6548, 9941, 4469, 3568, 5517, 3746, 640, 6787, 5303, 959, 7676, 8347, 2450, 6636, 3966, 1455, 1150, 4422, 9066, 6254, 3914, 8562, 6401]\n",
      "Total Money Made: 4959100\n",
      "Bank ID & Money Earned: [(4765, 12900), (8789, 93200), (6131, 4300), (7271, 8200), (8021, 13500), (9689, 9400), (3859, 3100), (6366, 600), (6000, 29200), (9440, 500), (6824, 9800), (6548, 6200), (9941, 3600), (4469, 11300), (3568, 95800), (5517, 200), (3746, 40500), (640, 3300), (6787, 19500), (5303, 40400), (959, 87000), (7676, 400), (8347, 8400), (2450, 1100), (6636, 2400), (3966, 600), (1455, 78800), (1150, 30900), (4422, 77700), (9066, 300), (6254, 55100), (3914, 25200), (8562, 79100), (6401, 700), (4765, 12900), (8789, 93200), (6131, 4300), (7271, 8200), (8021, 13500), (9689, 9400), (3859, 3100), (6366, 600), (6000, 29200), (9440, 500), (6824, 9800), (6548, 6200), (9941, 3600), (4469, 11300), (3568, 95800), (5517, 200), (3746, 40500), (640, 3300), (6787, 19500), (5303, 40400), (959, 87000), (7676, 400), (8347, 8400), (2450, 1100), (6636, 2400), (3966, 600), (1455, 78800), (1150, 30900), (4422, 77700), (9066, 300), (6254, 55100), (3914, 25200), (8562, 79100), (6401, 700), (4765, 12900), (8789, 93200), (6131, 4300), (7271, 8200), (8021, 13500), (9689, 9400), (3859, 3100), (6366, 600), (6000, 29200), (9440, 500), (6824, 9800), (6548, 6200), (9941, 3600), (4469, 11300), (3568, 95800), (5517, 200), (3746, 40500), (640, 3300), (6787, 19500), (5303, 40400), (959, 87000), (7676, 400), (8347, 8400), (2450, 1100), (6636, 2400), (3966, 600), (1455, 78800), (1150, 30900), (4422, 77700), (9066, 300), (6254, 55100), (3914, 25200), (8562, 79100), (6401, 700), (4765, 12900), (8789, 93200), (6131, 4300), (7271, 8200), (8021, 13500), (9689, 9400), (3859, 3100), (6366, 600), (6000, 29200), (9440, 500), (6824, 9800), (6548, 6200), (9941, 3600), (4469, 11300), (3568, 95800), (5517, 200), (3746, 40500), (640, 3300), (6787, 19500), (5303, 40400), (959, 87000), (7676, 400), (8347, 8400), (2450, 1100), (6636, 2400), (3966, 600), (1455, 78800), (1150, 30900), (4422, 77700), (9066, 300), (6254, 55100), (3914, 25200), (8562, 79100), (6401, 700), (4765, 12900), (8789, 93200), (6131, 4300), (7271, 8200), (8021, 13500), (9689, 9400), (3859, 3100), (6366, 600), (6000, 29200), (9440, 500), (6824, 9800), (6548, 6200), (9941, 3600), (4469, 11300), (3568, 95800), (5517, 200), (3746, 40500), (640, 3300), (6787, 19500), (5303, 40400), (959, 87000), (7676, 400), (8347, 8400), (2450, 1100), (6636, 2400), (3966, 600), (1455, 78800), (1150, 30900), (4422, 77700), (9066, 300), (6254, 55100), (3914, 25200), (8562, 79100), (6401, 700), (4765, 12900), (8789, 93200), (6131, 4300), (7271, 8200), (8021, 13500), (9689, 9400), (3859, 3100), (6366, 600), (6000, 29200), (9440, 500), (6824, 9800), (6548, 6200), (9941, 3600), (4469, 11300), (3568, 95800), (5517, 200), (3746, 40500), (640, 3300), (6787, 19500), (5303, 40400), (959, 87000), (7676, 400), (8347, 8400), (2450, 1100), (6636, 2400), (3966, 600), (1455, 78800), (1150, 30900), (4422, 77700), (9066, 300)]\n"
     ]
    }
   ],
   "source": [
    "def robber_algo(df):\n",
    "    start_time = time.time()\n",
    "    n = len(df)\n",
    "    best_route = []\n",
    "    max_banks_visited = 0\n",
    "    total_money = 0\n",
    "    money_by_bank = []\n",
    "\n",
    "    for start_bank in df.index:\n",
    "        current_time = 0\n",
    "        current_position = (0, 0)\n",
    "        visited = []\n",
    "        \n",
    "        while current_time < 24 * 60 and time.time() - start_time < 180:\n",
    "            min_distance = np.inf\n",
    "            next_bank = None\n",
    "            \n",
    "            for idx, row in df.iterrows():\n",
    "                if idx in visited:\n",
    "                    continue\n",
    "                \n",
    "                distance = np.linalg.norm(np.array(current_position) - np.array((row['x_coordinate'], row['y_coordinate'])))\n",
    "                travel_time = distance / 30 * 60  # Convert hours to minutes\n",
    "                \n",
    "                if current_time + travel_time + row['time (hr)'] * 60 < 24 * 60:\n",
    "                    if distance < min_distance:\n",
    "                        min_distance = distance\n",
    "                        next_bank = idx\n",
    "            \n",
    "            if next_bank is None:\n",
    "                break\n",
    "            \n",
    "            visited.append(next_bank)\n",
    "            money_earned = df.loc[next_bank, 'money']\n",
    "            total_money += money_earned\n",
    "            money_by_bank.append((next_bank, money_earned)) \n",
    "            current_time += (min_distance / 30 * 60) + (df.loc[next_bank, 'time (hr)'] * 60)\n",
    "            current_position = (df.loc[next_bank, 'x_coordinate'], df.loc[next_bank, 'y_coordinate'])\n",
    "        \n",
    "        if len(visited) > max_banks_visited:\n",
    "            max_banks_visited = len(visited)\n",
    "            best_route = visited\n",
    "    \n",
    "    return best_route, total_money,money_by_bank\n",
    "\n",
    "\n",
    "                                 \n",
    "result, total_money,money_by_bank = robber_algo(df)\n",
    "print(\"Visited Banks:\", result)\n",
    "print(\"Total Money Made:\", total_money)\n",
    "print(\"Bank ID & Money Earned:\", money_by_bank)"
   ]
  },
  {
   "cell_type": "markdown",
   "id": "b4459da3",
   "metadata": {},
   "source": [
    "### 5. Output"
   ]
  },
  {
   "cell_type": "code",
   "execution_count": 120,
   "id": "300f337e-909f-4c4b-9c5b-9212e165dcfd",
   "metadata": {
    "tags": []
   },
   "outputs": [
    {
     "name": "stdout",
     "output_type": "stream",
     "text": [
      "Visited Banks: [3613.0, 9546.0, 3803.0, 6528.0, 9583.0, 5933.0, 9195.0, 4757.0, 8550.0, 4499.0, 9241.0, 7343.0, 3798.0, 7544.0, 4762.0, 8436.0, 8562.0, 6097.0, 487.0, 2928.0, 5135.0, 865.0, 3914.0, 4987.0, 3466.0, 7560.0, 8579.0, 8690.0, 8469.0, 433.0, 524.0, 6468.0, 1914.0, 1757.0, 8287.0, 7258.0, 4725.0, 8206.0, 4605.0, 7064.0, 3926.0, 9401.0, 9736.0, 2331.0, 9653.0, 7074.0, 2346.0, 8966.0, 4696.0, 8022.0, 4789.0, 6740.0, 9881.0, 70.0, 2656.0, 951.0, 209.0, 58.0, 9228.0, 3193.0, 8525.0, 5610.0, 2037.0, 4287.0, 6022.0, 2827.0, 8849.0, 9378.0, 6104.0, 2741.0, 7701.0, 8355.0, 5563.0, 3005.0, 7665.0, 6987.0, 5719.0, 2729.0, 1997.0, 8286.0, 4906.0, 613.0, 790.0, 7087.0, 5126.0, 5562.0, 3516.0, 2243.0, 6759.0, 3026.0, 1372.0, 2442.0, 1733.0, 8375.0, 7764.0, 7649.0, 7689.0, 9880.0, 3297.0, 4794.0, 3089.0, 7583.0, 5725.0, 517.0, 4345.0, 2521.0, 2190.0, 5155.0, 9049.0, 444.0, 6712.0, 8908.0, 8703.0, 7877.0, 7595.0, 8231.0, 9275.0, 4465.0, 5295.0, 5296.0, 299.0, 8846.0, 6254.0, 507.0, 6535.0, 6216.0, 279.0, 5166.0]\n",
      "Total Money Earned: 6439300.0\n"
     ]
    }
   ],
   "source": [
    "import pandas as pd\n",
    "import numpy as np\n",
    "\n",
    "def robber_algorithm(df):\n",
    "    # Sort banks by money/time\n",
    "    df['profit'] = df['money'] / df['time (hr)']\n",
    "    df.sort_values(by='profit', ascending=False, inplace=True)\n",
    "\n",
    "    visited_banks = []\n",
    "    time = 24 * 60  # Convert hours to minutes\n",
    "    current_position = (0, 0)\n",
    "    total_money = 0\n",
    "\n",
    "    # Greedy approach\n",
    "    for _, row in df.iterrows():\n",
    "        distance = np.sqrt((row['x_coordinate'] - current_position[0])**2 +\n",
    "                           (row['y_coordinate'] - current_position[1])**2)\n",
    "        travel_time = distance / 30 * 60 # Travel time in minutes\n",
    "        robbing_time = row['time (hr)'] * 60\n",
    "        \n",
    "        \n",
    "        if time >= travel_time + robbing_time:\n",
    "            visited_banks.append(row['id'])\n",
    "            total_money += row['money']\n",
    "            time -= travel_time + robbing_time\n",
    "            current_position = (row['x_coordinate'], row['y_coordinate'])\n",
    "        else :\n",
    "                break\n",
    "\n",
    "    # Add escape zone\n",
    "    distance_to_escape = np.sqrt(current_position[0]**2 + current_position[1]**2)\n",
    "    travel_time_to_escape = distance_to_escape / 30 * 60  # Travel time in minutes\n",
    "\n",
    "    if time >= travel_time_to_escape:\n",
    "        visited_banks.append(0)\n",
    "        time -= travel_time_to_escape\n",
    "\n",
    "    return visited_banks, total_money\n",
    "\n",
    "result, total_money = robber_algorithm(df)\n",
    "print(\"Visited Banks:\", result)\n",
    "print(\"Total Money Earned:\", total_money)\n"
   ]
  },
  {
   "cell_type": "code",
   "execution_count": 2,
   "id": "bf427037",
   "metadata": {},
   "outputs": [],
   "source": []
  },
  {
   "cell_type": "code",
   "execution_count": 4,
   "id": "d5fcf5b4",
   "metadata": {},
   "outputs": [],
   "source": []
  },
  {
   "cell_type": "code",
   "execution_count": null,
   "id": "169907ad",
   "metadata": {},
   "outputs": [],
   "source": []
  }
 ],
 "metadata": {
  "kernelspec": {
   "display_name": "Python 3 (ipykernel)",
   "language": "python",
   "name": "python3"
  },
  "language_info": {
   "codemirror_mode": {
    "name": "ipython",
    "version": 3
   },
   "file_extension": ".py",
   "mimetype": "text/x-python",
   "name": "python",
   "nbconvert_exporter": "python",
   "pygments_lexer": "ipython3",
   "version": "3.11.5"
  }
 },
 "nbformat": 4,
 "nbformat_minor": 5
}
