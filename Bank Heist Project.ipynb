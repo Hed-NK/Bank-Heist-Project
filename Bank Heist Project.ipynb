{
 "cells": [
  {
   "cell_type": "markdown",
   "id": "dc9658e8",
   "metadata": {},
   "source": [
    "# Bank Heist Project"
   ]
  },
  {
   "cell_type": "markdown",
   "id": "5247c02b",
   "metadata": {},
   "source": [
    "### 1. Initialization and Constants"
   ]
  },
  {
   "cell_type": "markdown",
   "id": "397543fa",
   "metadata": {},
   "source": [
    "- Maximum time allowed for the heist is 24 hours, meanwhile we travel between banks at a speed of 30km / h. \n",
    "- The coordinates are in kilometers so (1, 1) and (1,2) are one kilometer apart. \n",
    "- The solution has to run on a common laptop under 3 minutes for the 10,000 cities dataset\n",
    "- We must finish or start at the escape zones which is coordinate (0,0) "
   ]
  },
  {
   "cell_type": "code",
   "execution_count": 9,
   "id": "e5a683b1",
   "metadata": {},
   "outputs": [],
   "source": [
    "import pandas as pd\n",
    "import numpy as np\n",
    "import time\n",
    "from scipy.spatial.distance import cdist\n",
    "\n",
    "df = pd.read_csv ('bank_data.csv')"
   ]
  },
  {
   "cell_type": "markdown",
   "id": "58d85fa8",
   "metadata": {},
   "source": [
    "### 2. Distance Calculation"
   ]
  },
  {
   "cell_type": "code",
   "execution_count": null,
   "id": "8ce59a7a",
   "metadata": {},
   "outputs": [],
   "source": [
    "def distance_calc(df):\n",
    "    bank_coord = df[['x', 'y']].values\n",
    "    distances = cdist(bank_coord, bank_coord, metric='euclidean')\n",
    "    return distances"
   ]
  },
  {
   "cell_type": "markdown",
   "id": "2fc28950",
   "metadata": {},
   "source": [
    "### 3. Greedy Algorithm"
   ]
  },
  {
   "cell_type": "code",
   "execution_count": null,
   "id": "74744b71",
   "metadata": {},
   "outputs": [],
   "source": [
    "def greedy_algo(distances, timelimit=24):\n",
    "    "
   ]
  },
  {
   "cell_type": "markdown",
   "id": "37b936b7",
   "metadata": {},
   "source": [
    "### 4. Implementation Details"
   ]
  },
  {
   "cell_type": "markdown",
   "id": "b4459da3",
   "metadata": {},
   "source": [
    "### 5. Output"
   ]
  },
  {
   "cell_type": "code",
   "execution_count": 1,
   "id": "300f337e-909f-4c4b-9c5b-9212e165dcfd",
   "metadata": {},
   "outputs": [],
   "source": []
  },
  {
   "cell_type": "code",
   "execution_count": 2,
   "id": "bf427037",
   "metadata": {},
   "outputs": [],
   "source": []
  },
  {
   "cell_type": "code",
   "execution_count": 4,
   "id": "d5fcf5b4",
   "metadata": {},
   "outputs": [],
   "source": []
  },
  {
   "cell_type": "code",
   "execution_count": null,
   "id": "169907ad",
   "metadata": {},
   "outputs": [],
   "source": []
  }
 ],
 "metadata": {
  "kernelspec": {
   "display_name": "Python 3 (ipykernel)",
   "language": "python",
   "name": "python3"
  },
  "language_info": {
   "codemirror_mode": {
    "name": "ipython",
    "version": 3
   },
   "file_extension": ".py",
   "mimetype": "text/x-python",
   "name": "python",
   "nbconvert_exporter": "python",
   "pygments_lexer": "ipython3",
   "version": "3.11.5"
  }
 },
 "nbformat": 4,
 "nbformat_minor": 5
}
