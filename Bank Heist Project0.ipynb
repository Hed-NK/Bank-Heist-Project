{
 "cells": [
  {
   "cell_type": "code",
   "execution_count": 5,
   "id": "300f337e-909f-4c4b-9c5b-9212e165dcfd",
   "metadata": {},
   "outputs": [
    {
     "name": "stdout",
     "output_type": "stream",
     "text": [
      "Visited Banks: [3613.0, 9546.0, 3803.0, 6528.0, 9583.0, 5933.0, 9195.0, 4757.0, 8550.0, 4499.0, 9241.0, 7343.0, 3798.0, 7544.0, 4762.0, 8436.0, 8562.0, 6097.0, 487.0, 2928.0, 5135.0, 865.0, 3914.0, 4987.0, 3466.0, 7560.0, 8579.0, 8690.0, 8469.0, 433.0, 524.0, 6468.0, 1914.0, 1757.0, 8287.0, 7258.0, 4725.0, 8206.0, 4605.0, 7064.0, 3926.0, 9401.0, 9736.0, 2331.0, 9653.0, 7074.0, 2346.0, 8966.0, 4696.0, 8022.0, 4789.0, 6740.0, 9881.0, 70.0, 2656.0, 951.0, 209.0, 58.0, 9228.0, 3193.0, 8525.0, 5610.0, 2037.0, 4287.0, 6022.0, 2827.0, 8849.0, 9378.0, 6104.0, 2741.0, 7701.0, 8355.0, 5563.0, 3005.0, 7665.0, 6987.0, 5719.0, 2729.0, 1997.0, 8286.0, 4906.0, 613.0, 790.0, 7087.0, 5126.0, 5562.0, 3516.0, 2243.0, 6759.0, 3026.0, 1372.0, 2442.0, 1733.0, 8375.0, 7764.0, 7649.0, 7689.0, 9880.0, 3297.0, 4794.0, 3089.0, 7583.0, 5725.0, 517.0, 4345.0, 2521.0, 2190.0, 5155.0, 9049.0, 444.0, 6712.0, 8908.0, 8703.0, 7877.0, 7595.0, 8231.0, 9275.0, 4465.0, 5295.0, 5296.0, 299.0, 8846.0, 6254.0, 507.0, 6535.0, 6216.0, 279.0, 5166.0]\n",
      "Total Money Earned: 6439300.0\n"
     ]
    }
   ],
   "source": [
    "import pandas as pd\n",
    "import numpy as np\n",
    "\n",
    "def robber_algorithm(df):\n",
    "    # Sort banks by money/time\n",
    "    df['profit'] = df['money'] / df['time (hr)']\n",
    "    df.sort_values(by='profit', ascending=False, inplace=True)\n",
    "\n",
    "    visited_banks = []\n",
    "    time = 24 * 60  # Convert hours to minutes\n",
    "    current_position = (0, 0)\n",
    "    total_money = 0\n",
    "\n",
    "    # Greedy approach\n",
    "    for _, row in df.iterrows():\n",
    "        distance = np.sqrt((row['x_coordinate'] - current_position[0])**2 +\n",
    "                           (row['y_coordinate'] - current_position[1])**2)\n",
    "        travel_time = distance / 30 * 60 # Travel time in minutes\n",
    "        robbing_time = row['time (hr)'] * 60\n",
    "        \n",
    "        \n",
    "        if time >= travel_time + robbing_time:\n",
    "            visited_banks.append(row['id'])\n",
    "            total_money += row['money']\n",
    "            time -= travel_time + robbing_time\n",
    "            current_position = (row['x_coordinate'], row['y_coordinate'])\n",
    "        else :\n",
    "                break\n",
    "\n",
    "    # Add escape zone\n",
    "    distance_to_escape = np.sqrt(current_position[0]**2 + current_position[1]**2)\n",
    "    travel_time_to_escape = distance_to_escape / 30 * 60  # Travel time in minutes\n",
    "\n",
    "    if time >= travel_time_to_escape:\n",
    "        visited_banks.append(0)\n",
    "        time -= travel_time_to_escape\n",
    "\n",
    "    return visited_banks, total_money\n",
    "\n",
    "result, total_money = robber_algorithm(df)\n",
    "print(\"Visited Banks:\", result)\n",
    "print(\"Total Money Earned:\", total_money)"
   ]
  }
 ],
 "metadata": {
  "kernelspec": {
   "display_name": "Python 3 (ipykernel)",
   "language": "python",
   "name": "python3"
  },
  "language_info": {
   "codemirror_mode": {
    "name": "ipython",
    "version": 3
   },
   "file_extension": ".py",
   "mimetype": "text/x-python",
   "name": "python",
   "nbconvert_exporter": "python",
   "pygments_lexer": "ipython3",
   "version": "3.11.7"
  }
 },
 "nbformat": 4,
 "nbformat_minor": 5
}
